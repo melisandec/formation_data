{
 "cells": [
  {
   "cell_type": "code",
   "execution_count": 1,
   "id": "8ab9390d",
   "metadata": {},
   "outputs": [],
   "source": [
    "import pandas as pd\n",
    "import numpy as np"
   ]
  },
  {
   "cell_type": "markdown",
   "id": "81996f24",
   "metadata": {},
   "source": [
    "creation d'un dataframe "
   ]
  },
  {
   "cell_type": "code",
   "execution_count": 2,
   "id": "0a716368",
   "metadata": {},
   "outputs": [],
   "source": [
    "data = {\"Nom\":[\"Alice\",\"Bob\",\"Charlie\"],\n",
    "       \"Age\":[25,30,50],\n",
    "        \"Ville\":[\"Paris\",\"New York\",\"Londres\"]}"
   ]
  },
  {
   "cell_type": "code",
   "execution_count": 3,
   "id": "0e8f39b6",
   "metadata": {},
   "outputs": [],
   "source": [
    "df = pd.DataFrame(data)"
   ]
  },
  {
   "cell_type": "code",
   "execution_count": 5,
   "id": "d79dfbd2",
   "metadata": {},
   "outputs": [
    {
     "data": {
      "text/html": [
       "<div>\n",
       "<style scoped>\n",
       "    .dataframe tbody tr th:only-of-type {\n",
       "        vertical-align: middle;\n",
       "    }\n",
       "\n",
       "    .dataframe tbody tr th {\n",
       "        vertical-align: top;\n",
       "    }\n",
       "\n",
       "    .dataframe thead th {\n",
       "        text-align: right;\n",
       "    }\n",
       "</style>\n",
       "<table border=\"1\" class=\"dataframe\">\n",
       "  <thead>\n",
       "    <tr style=\"text-align: right;\">\n",
       "      <th></th>\n",
       "      <th>Nom</th>\n",
       "      <th>Age</th>\n",
       "      <th>Ville</th>\n",
       "    </tr>\n",
       "  </thead>\n",
       "  <tbody>\n",
       "    <tr>\n",
       "      <th>0</th>\n",
       "      <td>Alice</td>\n",
       "      <td>25</td>\n",
       "      <td>Paris</td>\n",
       "    </tr>\n",
       "    <tr>\n",
       "      <th>1</th>\n",
       "      <td>Bob</td>\n",
       "      <td>30</td>\n",
       "      <td>New York</td>\n",
       "    </tr>\n",
       "    <tr>\n",
       "      <th>2</th>\n",
       "      <td>Charlie</td>\n",
       "      <td>50</td>\n",
       "      <td>Londres</td>\n",
       "    </tr>\n",
       "  </tbody>\n",
       "</table>\n",
       "</div>"
      ],
      "text/plain": [
       "       Nom  Age     Ville\n",
       "0    Alice   25     Paris\n",
       "1      Bob   30  New York\n",
       "2  Charlie   50   Londres"
      ]
     },
     "execution_count": 5,
     "metadata": {},
     "output_type": "execute_result"
    }
   ],
   "source": [
    "df"
   ]
  },
  {
   "cell_type": "code",
   "execution_count": 6,
   "id": "36bd8d4e",
   "metadata": {},
   "outputs": [],
   "source": [
    "df[\"Salaire\"]=[50000,60000,42000] #ajout d'une nouvelle colonne"
   ]
  },
  {
   "cell_type": "code",
   "execution_count": null,
   "id": "1ce1f8f1",
   "metadata": {},
   "outputs": [],
   "source": [
    "print(type(df))"
   ]
  },
  {
   "cell_type": "code",
   "execution_count": null,
   "id": "b0f54873",
   "metadata": {},
   "outputs": [],
   "source": [
    "df.shape # permet de connaitre le nombre de lignes et de colonnes"
   ]
  },
  {
   "cell_type": "code",
   "execution_count": null,
   "id": "947b43c1",
   "metadata": {},
   "outputs": [],
   "source": [
    "df.info() # peut nous faire savoir si on a des valeurs manquante 'Non-Null Count'"
   ]
  },
  {
   "cell_type": "code",
   "execution_count": null,
   "id": "adbfa2e4",
   "metadata": {},
   "outputs": [],
   "source": [
    "df.isna() # retourne dataframe uniquement ou il y a un none"
   ]
  },
  {
   "cell_type": "code",
   "execution_count": null,
   "id": "951282d3",
   "metadata": {},
   "outputs": [],
   "source": [
    "df.isna().sum() #Pour donner tous les none et la somme des nones"
   ]
  },
  {
   "cell_type": "code",
   "execution_count": null,
   "id": "9909b196",
   "metadata": {},
   "outputs": [],
   "source": [
    "df.head(1) # pour les x premiere valeurs"
   ]
  },
  {
   "cell_type": "code",
   "execution_count": null,
   "id": "cce4a60b",
   "metadata": {},
   "outputs": [],
   "source": [
    "df.tail(1) # pour les x derniere valeurs"
   ]
  },
  {
   "cell_type": "code",
   "execution_count": null,
   "id": "42ff651c",
   "metadata": {},
   "outputs": [],
   "source": []
  },
  {
   "cell_type": "code",
   "execution_count": null,
   "id": "53f8523e",
   "metadata": {},
   "outputs": [],
   "source": []
  }
 ],
 "metadata": {
  "kernelspec": {
   "display_name": "Python 3 (ipykernel)",
   "language": "python",
   "name": "python3"
  },
  "language_info": {
   "codemirror_mode": {
    "name": "ipython",
    "version": 3
   },
   "file_extension": ".py",
   "mimetype": "text/x-python",
   "name": "python",
   "nbconvert_exporter": "python",
   "pygments_lexer": "ipython3",
   "version": "3.11.5"
  }
 },
 "nbformat": 4,
 "nbformat_minor": 5
}
