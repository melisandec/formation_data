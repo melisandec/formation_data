{
 "cells": [
  {
   "cell_type": "markdown",
   "id": "2f214525-f037-4922-98f5-4b41efa175b8",
   "metadata": {},
   "source": [
    "# Data Types "
   ]
  },
  {
   "cell_type": "markdown",
   "id": "dffac7b1-9ab0-42cf-b4f4-bb698dadbae8",
   "metadata": {},
   "source": [
    "### Int"
   ]
  },
  {
   "cell_type": "code",
   "execution_count": 3,
   "id": "adde7e47-db15-4bb1-be4f-74952542138f",
   "metadata": {},
   "outputs": [
    {
     "name": "stdout",
     "output_type": "stream",
     "text": [
      "6\n",
      "500\n",
      "DATA TYPES\n",
      "<class 'int'>\n",
      "<class 'int'>\n"
     ]
    }
   ],
   "source": [
    "a = 6\n",
    "b = 500\n",
    "print(a)\n",
    "print(b)\n",
    "print('DATA TYPES')\n",
    "print(type(a))\n",
    "print(type(b))"
   ]
  },
  {
   "cell_type": "markdown",
   "id": "3f8bcf29-b84a-4073-ad2e-f8504a81b7f6",
   "metadata": {},
   "source": [
    "### Float"
   ]
  },
  {
   "cell_type": "code",
   "execution_count": 4,
   "id": "ad93b91e-795e-475b-a831-c41d16b94f21",
   "metadata": {},
   "outputs": [
    {
     "name": "stdout",
     "output_type": "stream",
     "text": [
      "6.6\n",
      "500.9\n",
      "DATA TYPES\n",
      "<class 'float'>\n",
      "<class 'float'>\n"
     ]
    }
   ],
   "source": [
    "c = 6.6\n",
    "d = 500.90\n",
    "print(c)\n",
    "print(d)\n",
    "print('DATA TYPES')\n",
    "print(type(c))\n",
    "print(type(d))"
   ]
  },
  {
   "cell_type": "markdown",
   "id": "73c4ccdc-e6fe-4c2c-9d5c-508e839b58af",
   "metadata": {},
   "source": [
    "### String"
   ]
  },
  {
   "cell_type": "code",
   "execution_count": 5,
   "id": "19d2100d-620e-4837-a6b0-98e4aeead90a",
   "metadata": {},
   "outputs": [
    {
     "name": "stdout",
     "output_type": "stream",
     "text": [
      "We are in training 12 \n",
      "DATA TYPES\n",
      "<class 'str'>\n"
     ]
    }
   ],
   "source": [
    "sentence = \"We are in training 12 \"\n",
    "print(sentence)\n",
    "print('DATA TYPES')\n",
    "print(type(sentence))"
   ]
  },
  {
   "cell_type": "code",
   "execution_count": 6,
   "id": "a141b3e7-6f8d-476e-8f11-2757fc21346e",
   "metadata": {},
   "outputs": [
    {
     "data": {
      "text/plain": [
       "'WE ARE IN TRAINING 12 '"
      ]
     },
     "execution_count": 6,
     "metadata": {},
     "output_type": "execute_result"
    }
   ],
   "source": [
    "sentence.upper() # transformation de la phrase en MAJUSCULE"
   ]
  },
  {
   "cell_type": "code",
   "execution_count": 7,
   "id": "1289305e-ab60-48af-8085-dd69a7b26807",
   "metadata": {},
   "outputs": [
    {
     "data": {
      "text/plain": [
       "'We are in training 12 '"
      ]
     },
     "execution_count": 7,
     "metadata": {},
     "output_type": "execute_result"
    }
   ],
   "source": [
    "sentence"
   ]
  },
  {
   "cell_type": "code",
   "execution_count": 8,
   "id": "ccbd4036-4e6a-4c40-8096-888f07fcec2a",
   "metadata": {},
   "outputs": [
    {
     "name": "stdout",
     "output_type": "stream",
     "text": [
      "we are in training 12 \n"
     ]
    }
   ],
   "source": [
    "print(sentence.lower())"
   ]
  },
  {
   "cell_type": "code",
   "execution_count": 9,
   "id": "ee1c68dc-2b39-42e8-94bc-b455b93762db",
   "metadata": {},
   "outputs": [
    {
     "name": "stdout",
     "output_type": "stream",
     "text": [
      "Bonjour tout le monde\n",
      "==========\n",
      "BONJOUR TOUT LE MONDE\n"
     ]
    }
   ],
   "source": [
    "mot1 = \"Bonjour\" \n",
    "mot2= \"tout le monde\"\n",
    "phrase_complete = mot1 + ' ' + mot2\n",
    "print(mot1,mot2)\n",
    "print(\"==========\")\n",
    "print(phrase_complete.upper())"
   ]
  },
  {
   "cell_type": "markdown",
   "id": "9a1552fe-f877-4095-929c-ac57a5b9ad12",
   "metadata": {},
   "source": [
    "Formatage de chaine"
   ]
  },
  {
   "cell_type": "code",
   "execution_count": 10,
   "id": "d6e7f629-7225-402d-86e4-20740fbce80e",
   "metadata": {},
   "outputs": [
    {
     "name": "stdout",
     "output_type": "stream",
     "text": [
      "J'ai 25 ans et j'habite à Paris\n"
     ]
    }
   ],
   "source": [
    "age = 25\n",
    "ville = \"Paris\"\n",
    "message = \"J'ai {} ans et j'habite à {}\".format(age,ville)\n",
    "print(message)"
   ]
  },
  {
   "cell_type": "markdown",
   "id": "49ed2921-7e1f-4e19-a834-c3b5cb02b921",
   "metadata": {},
   "source": [
    "##### Longeur de chaine (Len)"
   ]
  },
  {
   "cell_type": "code",
   "execution_count": 11,
   "id": "43597a39-fb33-4689-b713-5ff946f40ebc",
   "metadata": {},
   "outputs": [
    {
     "name": "stdout",
     "output_type": "stream",
     "text": [
      "Quelle est la taille de ma chaine ?\n",
      "Taille de  23\n",
      "Nous sommes en décembre\n",
      "Taille de  20\n"
     ]
    }
   ],
   "source": [
    "word = \"Nous sommes en décembre\"\n",
    "print(\"Quelle est la taille de ma chaine ?\") \n",
    "print(\"Taille de \",len(word))\n",
    "print(word)\n",
    "new_word = word.replace(\" \",\"\") # sans espace\n",
    "print(\"Taille de \",len(new_word))\n"
   ]
  },
  {
   "cell_type": "code",
   "execution_count": 12,
   "id": "8833d97b-5492-4c19-9759-7f161d1262c4",
   "metadata": {},
   "outputs": [
    {
     "data": {
      "text/plain": [
       "'Demo  Example  '"
      ]
     },
     "execution_count": 12,
     "metadata": {},
     "output_type": "execute_result"
    }
   ],
   "source": [
    "#Suppression espace en début de mot\n",
    ">>> demo = \" Demo  Example  \"\n",
    ">>> demo.lstrip()"
   ]
  },
  {
   "cell_type": "code",
   "execution_count": 13,
   "id": "6b2022a4-9b8d-4107-b5af-9133a0455744",
   "metadata": {},
   "outputs": [
    {
     "data": {
      "text/plain": [
       "'DemoExample'"
      ]
     },
     "execution_count": 13,
     "metadata": {},
     "output_type": "execute_result"
    }
   ],
   "source": [
    ">>> demo = \" Demo  Example  \"\n",
    ">>> demo.replace(\" \", \"\")\n",
    "'DemoExample'"
   ]
  },
  {
   "cell_type": "markdown",
   "id": "3040e008-33e5-4b12-bc6b-768c7cd22dd3",
   "metadata": {},
   "source": [
    "##### Slicing"
   ]
  },
  {
   "cell_type": "code",
   "execution_count": 14,
   "id": "1e81d156-6e47-4af5-96f5-ac2465153bf4",
   "metadata": {},
   "outputs": [
    {
     "name": "stdout",
     "output_type": "stream",
     "text": [
      "Je suis à Paris dans la journée\n",
      "J\n",
      "s\n",
      "RECUPERATION DU MOT PARIS\n",
      "Paris\n",
      "s\n"
     ]
    }
   ],
   "source": [
    "sentence_1 = \"Je suis à Paris dans la journée\"\n",
    "\n",
    "print(sentence_1)\n",
    "premier_caracteres = sentence_1[0] # recuperer le premier index de ma phrase \n",
    "print(premier_caracteres)\n",
    "\n",
    "lettre_s = sentence_1[3]\n",
    "print(lettre_s)\n",
    "print(\"RECUPERATION DU MOT PARIS\")\n",
    "paris = sentence_1[10:15] #recuperer un terme avec indice debut: indice de fin \n",
    "print(paris)\n",
    "\n",
    "print(paris[-1])"
   ]
  },
  {
   "cell_type": "code",
   "execution_count": 15,
   "id": "25717dd2-7a45-4316-9ea6-3e27bae02fb9",
   "metadata": {},
   "outputs": [
    {
     "data": {
      "text/plain": [
       "2"
      ]
     },
     "execution_count": 15,
     "metadata": {},
     "output_type": "execute_result"
    }
   ],
   "source": [
    "exemple_mot = \"je\"\n",
    "len(exemple_mot)"
   ]
  },
  {
   "cell_type": "code",
   "execution_count": 16,
   "id": "644ff171-e338-435b-a37c-854d77818759",
   "metadata": {},
   "outputs": [
    {
     "data": {
      "text/plain": [
       "True"
      ]
     },
     "execution_count": 16,
     "metadata": {},
     "output_type": "execute_result"
    }
   ],
   "source": [
    "mot = \"jour\"\n",
    "phrases = \"Nous sommes le jour de la semaine\"\n",
    "is_present = mot in phrases\n",
    "is_present"
   ]
  },
  {
   "cell_type": "markdown",
   "id": "379e78ec-7b1c-4230-8d9b-a40169f18e2c",
   "metadata": {},
   "source": [
    "### List\n",
    "\n"
   ]
  },
  {
   "cell_type": "code",
   "execution_count": 17,
   "id": "fd62b0f1-8f61-4472-b332-036b04d7209e",
   "metadata": {},
   "outputs": [
    {
     "name": "stdout",
     "output_type": "stream",
     "text": [
      "['henry', 24, 'France']\n",
      "DATA TYPES\n",
      "<class 'list'>\n"
     ]
    }
   ],
   "source": [
    "listes_1 = [\"henry\",24,\"France\"]\n",
    "print(listes_1)\n",
    "print('DATA TYPES')\n",
    "print(type(listes_1))\n",
    "#Comment avoir juste la France ?\n"
   ]
  },
  {
   "cell_type": "code",
   "execution_count": 18,
   "id": "5075a04e-8cc7-4b97-b0da-bfa5538ae272",
   "metadata": {},
   "outputs": [
    {
     "data": {
      "text/plain": [
       "'France'"
      ]
     },
     "execution_count": 18,
     "metadata": {},
     "output_type": "execute_result"
    }
   ],
   "source": [
    "listes_1[2]"
   ]
  },
  {
   "cell_type": "code",
   "execution_count": 19,
   "id": "e44dc636-1c36-400d-937c-216aaa1a3cda",
   "metadata": {},
   "outputs": [
    {
     "data": {
      "text/plain": [
       "['henry', 24, 'France', 'bernard', 35, 'Italie']"
      ]
     },
     "execution_count": 19,
     "metadata": {},
     "output_type": "execute_result"
    }
   ],
   "source": [
    "listes_2 = [\"bernard\",35,\"Italie\"]\n",
    "\n",
    "#Avoir un seule liste qui regroupe tous ces elements ?\n",
    "\n",
    "list_total = listes_1 + listes_2 # concatenation de listes\n",
    "\n",
    "list_total\n"
   ]
  },
  {
   "cell_type": "code",
   "execution_count": 20,
   "id": "c8c7a300-8e81-4645-a495-734b00ebaa4b",
   "metadata": {},
   "outputs": [
    {
     "name": "stdout",
     "output_type": "stream",
     "text": [
      "[1, 2, 3, 4, 5]\n",
      "IMPRIMER LA LISTE A L'ENVERS\n",
      "[5, 4, 3, 2, 1]\n"
     ]
    }
   ],
   "source": [
    "liste_numeros = [1, 2, 3, 4, 5] #index commence toujours à 0 ! \n",
    "\n",
    "#element 4\n",
    "liste_numeros[3]\n",
    "print(liste_numeros)\n",
    "print(\"IMPRIMER LA LISTE A L'ENVERS\")\n",
    "\n",
    "listes_reverse = liste_numeros.reverse()\n",
    "print(liste_numeros)\n",
    "\n",
    "#Ajouter à la premiere liste 6 \n",
    "\n"
   ]
  },
  {
   "cell_type": "code",
   "execution_count": 21,
   "id": "2b7fe301-b9f7-4bd0-8b47-34820afd21e7",
   "metadata": {},
   "outputs": [],
   "source": [
    "liste_numeros.append(7)"
   ]
  },
  {
   "cell_type": "code",
   "execution_count": 22,
   "id": "5c72309e-8fa8-49c1-a57d-6882c2440a68",
   "metadata": {},
   "outputs": [],
   "source": [
    "liste_numeros.append('mot')"
   ]
  },
  {
   "cell_type": "code",
   "execution_count": 23,
   "id": "05425533-6303-45ea-a111-7c05201373c2",
   "metadata": {},
   "outputs": [],
   "source": [
    "liste_numeros.remove(1)"
   ]
  },
  {
   "cell_type": "code",
   "execution_count": 24,
   "id": "61d59e8d-1ada-4bb4-a50f-8c37e9033072",
   "metadata": {},
   "outputs": [
    {
     "data": {
      "text/plain": [
       "[5, 4, 3, 2, 7, 'mot']"
      ]
     },
     "execution_count": 24,
     "metadata": {},
     "output_type": "execute_result"
    }
   ],
   "source": [
    "liste_numeros"
   ]
  },
  {
   "cell_type": "code",
   "execution_count": 25,
   "id": "81f6c318-f55b-4379-aabd-fdaeb91cd80f",
   "metadata": {},
   "outputs": [],
   "source": [
    "liste_numeros.remove(2)"
   ]
  },
  {
   "cell_type": "code",
   "execution_count": 26,
   "id": "75f2959f-9c02-4379-a651-8a404c41ee29",
   "metadata": {},
   "outputs": [
    {
     "data": {
      "text/plain": [
       "[5, 4, 3, 7, 'mot']"
      ]
     },
     "execution_count": 26,
     "metadata": {},
     "output_type": "execute_result"
    }
   ],
   "source": [
    "liste_numeros"
   ]
  },
  {
   "cell_type": "code",
   "execution_count": 27,
   "id": "78102429-d2eb-4f6e-91e9-40d4539a7e9a",
   "metadata": {},
   "outputs": [],
   "source": [
    "liste_numeros.insert(0,'hello') #Insertion à une position  "
   ]
  },
  {
   "cell_type": "code",
   "execution_count": 28,
   "id": "4147d210-6841-4457-b8aa-7d699ca27bd3",
   "metadata": {},
   "outputs": [
    {
     "data": {
      "text/plain": [
       "['hello', 5, 4, 3, 7, 'mot']"
      ]
     },
     "execution_count": 28,
     "metadata": {},
     "output_type": "execute_result"
    }
   ],
   "source": [
    "liste_numeros"
   ]
  },
  {
   "cell_type": "code",
   "execution_count": 29,
   "id": "e03d75e3-11dd-4b5b-895f-474f409a48d7",
   "metadata": {},
   "outputs": [
    {
     "data": {
      "text/plain": [
       "4"
      ]
     },
     "execution_count": 29,
     "metadata": {},
     "output_type": "execute_result"
    }
   ],
   "source": [
    "liste_numeros #Supprimer la position 2 \n",
    "liste_numeros.pop(2)"
   ]
  },
  {
   "cell_type": "code",
   "execution_count": 30,
   "id": "491ea322-a1ff-4924-9a05-5733b6be170e",
   "metadata": {},
   "outputs": [
    {
     "data": {
      "text/plain": [
       "['hello', 5, 3, 7, 'mot']"
      ]
     },
     "execution_count": 30,
     "metadata": {},
     "output_type": "execute_result"
    }
   ],
   "source": [
    "liste_numeros"
   ]
  },
  {
   "cell_type": "code",
   "execution_count": 31,
   "id": "9e8b2462-9e03-4e1d-b610-cd4933be4a6d",
   "metadata": {},
   "outputs": [
    {
     "data": {
      "text/plain": [
       "['hello', 5, 3, 7]"
      ]
     },
     "execution_count": 31,
     "metadata": {},
     "output_type": "execute_result"
    }
   ],
   "source": [
    "sous_listes = liste_numeros[0:4] #le slicing de : fin s'arrete une valeur avant ! \n",
    "sous_listes"
   ]
  },
  {
   "cell_type": "code",
   "execution_count": 32,
   "id": "1b7cb04e-f8a9-41f0-bc92-9cf3b275e691",
   "metadata": {},
   "outputs": [
    {
     "data": {
      "text/plain": [
       "4"
      ]
     },
     "execution_count": 32,
     "metadata": {},
     "output_type": "execute_result"
    }
   ],
   "source": [
    "new_list_numbers = [1,2,3,4]\n",
    "\n",
    "# taille de ma liste ? \n",
    "\n",
    "len(new_list_numbers)"
   ]
  },
  {
   "cell_type": "code",
   "execution_count": 33,
   "id": "f4d8cb34-6c56-4874-a96d-6ea223661031",
   "metadata": {},
   "outputs": [
    {
     "data": {
      "text/plain": [
       "True"
      ]
     },
     "execution_count": 33,
     "metadata": {},
     "output_type": "execute_result"
    }
   ],
   "source": [
    "# est ce que 3 est dans ma liste ? \n",
    "\n",
    "is_3 = 3\n",
    "is_3 in new_list_numbers\n",
    "3 in new_list_numbers"
   ]
  },
  {
   "cell_type": "code",
   "execution_count": 34,
   "id": "c7720e86-8f05-46b3-a0dc-920fc9d545c4",
   "metadata": {},
   "outputs": [
    {
     "data": {
      "text/plain": [
       "3"
      ]
     },
     "execution_count": 34,
     "metadata": {},
     "output_type": "execute_result"
    }
   ],
   "source": [
    "is_3"
   ]
  },
  {
   "cell_type": "code",
   "execution_count": null,
   "id": "b83a9ec6-9dd0-44cc-a3a8-98ae9bb786ee",
   "metadata": {},
   "outputs": [],
   "source": []
  }
 ],
 "metadata": {
  "kernelspec": {
   "display_name": "Python 3 (ipykernel)",
   "language": "python",
   "name": "python3"
  },
  "language_info": {
   "codemirror_mode": {
    "name": "ipython",
    "version": 3
   },
   "file_extension": ".py",
   "mimetype": "text/x-python",
   "name": "python",
   "nbconvert_exporter": "python",
   "pygments_lexer": "ipython3",
   "version": "3.11.5"
  }
 },
 "nbformat": 4,
 "nbformat_minor": 5
}
