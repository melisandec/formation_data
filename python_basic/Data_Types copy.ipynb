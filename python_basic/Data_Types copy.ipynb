{
 "cells": [
  {
   "cell_type": "markdown",
   "id": "2f214525-f037-4922-98f5-4b41efa175b8",
   "metadata": {},
   "source": [
    "# Data Types "
   ]
  },
  {
   "cell_type": "markdown",
   "id": "dffac7b1-9ab0-42cf-b4f4-bb698dadbae8",
   "metadata": {},
   "source": [
    "### Int"
   ]
  },
  {
   "cell_type": "code",
   "execution_count": 1,
   "id": "adde7e47-db15-4bb1-be4f-74952542138f",
   "metadata": {},
   "outputs": [
    {
     "name": "stdout",
     "output_type": "stream",
     "text": [
      "6\n",
      "500\n",
      "DATA TYPES\n",
      "<class 'int'>\n",
      "<class 'int'>\n"
     ]
    }
   ],
   "source": [
    "a = 6\n",
    "b = 500\n",
    "print(a)\n",
    "print(b)\n",
    "print('DATA TYPES')\n",
    "print(type(a))\n",
    "print(type(b))"
   ]
  },
  {
   "cell_type": "markdown",
   "id": "3f8bcf29-b84a-4073-ad2e-f8504a81b7f6",
   "metadata": {},
   "source": [
    "### Float"
   ]
  },
  {
   "cell_type": "code",
   "execution_count": 2,
   "id": "ad93b91e-795e-475b-a831-c41d16b94f21",
   "metadata": {},
   "outputs": [
    {
     "name": "stdout",
     "output_type": "stream",
     "text": [
      "6.6\n",
      "500.9\n",
      "DATA TYPES\n",
      "<class 'float'>\n",
      "<class 'float'>\n"
     ]
    }
   ],
   "source": [
    "c = 6.6\n",
    "d = 500.90\n",
    "print(c)\n",
    "print(d)\n",
    "print('DATA TYPES')\n",
    "print(type(c))\n",
    "print(type(d))"
   ]
  },
  {
   "cell_type": "markdown",
   "id": "73c4ccdc-e6fe-4c2c-9d5c-508e839b58af",
   "metadata": {},
   "source": [
    "### String"
   ]
  },
  {
   "cell_type": "code",
   "execution_count": 3,
   "id": "19d2100d-620e-4837-a6b0-98e4aeead90a",
   "metadata": {},
   "outputs": [
    {
     "name": "stdout",
     "output_type": "stream",
     "text": [
      "We are in training 12 \n",
      "DATA TYPES\n",
      "<class 'str'>\n"
     ]
    }
   ],
   "source": [
    "sentence = \"We are in training 12 \"\n",
    "print(sentence)\n",
    "print('DATA TYPES')\n",
    "print(type(sentence))"
   ]
  },
  {
   "cell_type": "code",
   "execution_count": 4,
   "id": "a141b3e7-6f8d-476e-8f11-2757fc21346e",
   "metadata": {},
   "outputs": [
    {
     "data": {
      "text/plain": [
       "'WE ARE IN TRAINING 12 '"
      ]
     },
     "execution_count": 4,
     "metadata": {},
     "output_type": "execute_result"
    }
   ],
   "source": [
    "sentence.upper() # transformation de la phrase en MAJUSCULE"
   ]
  },
  {
   "cell_type": "code",
   "execution_count": 5,
   "id": "1289305e-ab60-48af-8085-dd69a7b26807",
   "metadata": {},
   "outputs": [
    {
     "data": {
      "text/plain": [
       "'We are in training 12 '"
      ]
     },
     "execution_count": 5,
     "metadata": {},
     "output_type": "execute_result"
    }
   ],
   "source": [
    "sentence"
   ]
  },
  {
   "cell_type": "code",
   "execution_count": 6,
   "id": "ccbd4036-4e6a-4c40-8096-888f07fcec2a",
   "metadata": {},
   "outputs": [
    {
     "name": "stdout",
     "output_type": "stream",
     "text": [
      "we are in training 12 \n"
     ]
    }
   ],
   "source": [
    "print(sentence.lower())"
   ]
  },
  {
   "cell_type": "code",
   "execution_count": 7,
   "id": "ee1c68dc-2b39-42e8-94bc-b455b93762db",
   "metadata": {},
   "outputs": [
    {
     "name": "stdout",
     "output_type": "stream",
     "text": [
      "Bonjour tout le monde\n",
      "==========\n",
      "BONJOUR TOUT LE MONDE\n"
     ]
    }
   ],
   "source": [
    "mot1 = \"Bonjour\" \n",
    "mot2= \"tout le monde\"\n",
    "phrase_complete = mot1 + ' ' + mot2\n",
    "print(mot1,mot2)\n",
    "print(\"==========\")\n",
    "print(phrase_complete.upper())"
   ]
  },
  {
   "cell_type": "markdown",
   "id": "9a1552fe-f877-4095-929c-ac57a5b9ad12",
   "metadata": {},
   "source": [
    "Formatage de chaine"
   ]
  },
  {
   "cell_type": "code",
   "execution_count": 8,
   "id": "d6e7f629-7225-402d-86e4-20740fbce80e",
   "metadata": {},
   "outputs": [
    {
     "name": "stdout",
     "output_type": "stream",
     "text": [
      "J'ai 25 ans et j'habite à Paris\n"
     ]
    }
   ],
   "source": [
    "age = 25\n",
    "ville = \"Paris\"\n",
    "message = \"J'ai {} ans et j'habite à {}\".format(age,ville)\n",
    "print(message)"
   ]
  },
  {
   "cell_type": "markdown",
   "id": "49ed2921-7e1f-4e19-a834-c3b5cb02b921",
   "metadata": {},
   "source": [
    "##### Longeur de chaine (Len)"
   ]
  },
  {
   "cell_type": "code",
   "execution_count": 9,
   "id": "43597a39-fb33-4689-b713-5ff946f40ebc",
   "metadata": {},
   "outputs": [
    {
     "name": "stdout",
     "output_type": "stream",
     "text": [
      "Quelle est la taille de ma chaine ?\n",
      "Taille de  23\n",
      "Nous sommes en décembre\n",
      "Taille de  20\n"
     ]
    }
   ],
   "source": [
    "word = \"Nous sommes en décembre\"\n",
    "print(\"Quelle est la taille de ma chaine ?\") \n",
    "print(\"Taille de \",len(word))\n",
    "print(word)\n",
    "new_word = word.replace(\" \",\"\") # sans espace\n",
    "print(\"Taille de \",len(new_word))\n"
   ]
  },
  {
   "cell_type": "code",
   "execution_count": 10,
   "id": "8833d97b-5492-4c19-9759-7f161d1262c4",
   "metadata": {},
   "outputs": [
    {
     "data": {
      "text/plain": [
       "'Demo  Example  '"
      ]
     },
     "execution_count": 10,
     "metadata": {},
     "output_type": "execute_result"
    }
   ],
   "source": [
    "#Suppression espace en début de mot\n",
    ">>> demo = \" Demo  Example  \"\n",
    ">>> demo.lstrip()"
   ]
  },
  {
   "cell_type": "code",
   "execution_count": 11,
   "id": "6b2022a4-9b8d-4107-b5af-9133a0455744",
   "metadata": {},
   "outputs": [
    {
     "data": {
      "text/plain": [
       "'DemoExample'"
      ]
     },
     "execution_count": 11,
     "metadata": {},
     "output_type": "execute_result"
    }
   ],
   "source": [
    ">>> demo = \" Demo  Example  \"\n",
    ">>> demo.replace(\" \", \"\")\n",
    "'DemoExample'"
   ]
  },
  {
   "cell_type": "markdown",
   "id": "3040e008-33e5-4b12-bc6b-768c7cd22dd3",
   "metadata": {},
   "source": [
    "##### Slicing"
   ]
  },
  {
   "cell_type": "code",
   "execution_count": 12,
   "id": "1e81d156-6e47-4af5-96f5-ac2465153bf4",
   "metadata": {},
   "outputs": [
    {
     "name": "stdout",
     "output_type": "stream",
     "text": [
      "Je suis à Paris dans la journée\n",
      "J\n",
      "s\n",
      "RECUPERATION DU MOT PARIS\n",
      "Paris\n",
      "s\n"
     ]
    }
   ],
   "source": [
    "sentence_1 = \"Je suis à Paris dans la journée\"\n",
    "\n",
    "print(sentence_1)\n",
    "premier_caracteres = sentence_1[0] # recuperer le premier index de ma phrase \n",
    "print(premier_caracteres)\n",
    "\n",
    "lettre_s = sentence_1[3]\n",
    "print(lettre_s)\n",
    "print(\"RECUPERATION DU MOT PARIS\")\n",
    "paris = sentence_1[10:15] #recuperer un terme avec indice debut: indice de fin \n",
    "print(paris)\n",
    "\n",
    "print(paris[-1])"
   ]
  },
  {
   "cell_type": "code",
   "execution_count": 13,
   "id": "25717dd2-7a45-4316-9ea6-3e27bae02fb9",
   "metadata": {},
   "outputs": [
    {
     "data": {
      "text/plain": [
       "2"
      ]
     },
     "execution_count": 13,
     "metadata": {},
     "output_type": "execute_result"
    }
   ],
   "source": [
    "exemple_mot = \"je\"\n",
    "len(exemple_mot)"
   ]
  },
  {
   "cell_type": "code",
   "execution_count": 14,
   "id": "644ff171-e338-435b-a37c-854d77818759",
   "metadata": {},
   "outputs": [
    {
     "data": {
      "text/plain": [
       "True"
      ]
     },
     "execution_count": 14,
     "metadata": {},
     "output_type": "execute_result"
    }
   ],
   "source": [
    "mot = \"jour\"\n",
    "phrases = \"Nous sommes le jour de la semaine\"\n",
    "is_present = mot in phrases\n",
    "is_present"
   ]
  },
  {
   "cell_type": "markdown",
   "id": "379e78ec-7b1c-4230-8d9b-a40169f18e2c",
   "metadata": {},
   "source": [
    "### List\n",
    "\n"
   ]
  },
  {
   "cell_type": "code",
   "execution_count": 15,
   "id": "fd62b0f1-8f61-4472-b332-036b04d7209e",
   "metadata": {},
   "outputs": [
    {
     "name": "stdout",
     "output_type": "stream",
     "text": [
      "['henry', 24, 'France']\n",
      "DATA TYPES\n",
      "<class 'list'>\n"
     ]
    }
   ],
   "source": [
    "listes_1 = [\"henry\",24,\"France\"]\n",
    "print(listes_1)\n",
    "print('DATA TYPES')\n",
    "print(type(listes_1))\n",
    "#Comment avoir juste la France ?\n"
   ]
  },
  {
   "cell_type": "code",
   "execution_count": 16,
   "id": "5075a04e-8cc7-4b97-b0da-bfa5538ae272",
   "metadata": {},
   "outputs": [
    {
     "data": {
      "text/plain": [
       "'France'"
      ]
     },
     "execution_count": 16,
     "metadata": {},
     "output_type": "execute_result"
    }
   ],
   "source": [
    "listes_1[2]"
   ]
  },
  {
   "cell_type": "code",
   "execution_count": 17,
   "id": "e44dc636-1c36-400d-937c-216aaa1a3cda",
   "metadata": {},
   "outputs": [
    {
     "data": {
      "text/plain": [
       "['henry', 24, 'France', 'bernard', 35, 'Italie']"
      ]
     },
     "execution_count": 17,
     "metadata": {},
     "output_type": "execute_result"
    }
   ],
   "source": [
    "listes_2 = [\"bernard\",35,\"Italie\"]\n",
    "\n",
    "#Avoir un seule liste qui regroupe tous ces elements ?\n",
    "\n",
    "list_total = listes_1 + listes_2 # concatenation de listes\n",
    "\n",
    "list_total\n"
   ]
  },
  {
   "cell_type": "code",
   "execution_count": 18,
   "id": "c8c7a300-8e81-4645-a495-734b00ebaa4b",
   "metadata": {},
   "outputs": [
    {
     "name": "stdout",
     "output_type": "stream",
     "text": [
      "[1, 2, 3, 4, 5]\n",
      "IMPRIMER LA LISTE A L'ENVERS\n",
      "[5, 4, 3, 2, 1]\n"
     ]
    }
   ],
   "source": [
    "liste_numeros = [1, 2, 3, 4, 5] #index commence toujours à 0 ! \n",
    "\n",
    "#element 4\n",
    "liste_numeros[3]\n",
    "print(liste_numeros)\n",
    "print(\"IMPRIMER LA LISTE A L'ENVERS\")\n",
    "\n",
    "listes_reverse = liste_numeros.reverse()\n",
    "print(liste_numeros)\n",
    "\n",
    "#Ajouter à la premiere liste 6 \n",
    "\n"
   ]
  },
  {
   "cell_type": "code",
   "execution_count": 19,
   "id": "2b7fe301-b9f7-4bd0-8b47-34820afd21e7",
   "metadata": {},
   "outputs": [],
   "source": [
    "liste_numeros.append(7)"
   ]
  },
  {
   "cell_type": "code",
   "execution_count": 20,
   "id": "5c72309e-8fa8-49c1-a57d-6882c2440a68",
   "metadata": {},
   "outputs": [],
   "source": [
    "liste_numeros.append('mot')"
   ]
  },
  {
   "cell_type": "code",
   "execution_count": 21,
   "id": "05425533-6303-45ea-a111-7c05201373c2",
   "metadata": {},
   "outputs": [],
   "source": [
    "liste_numeros.remove(1)"
   ]
  },
  {
   "cell_type": "code",
   "execution_count": 22,
   "id": "61d59e8d-1ada-4bb4-a50f-8c37e9033072",
   "metadata": {},
   "outputs": [
    {
     "data": {
      "text/plain": [
       "[5, 4, 3, 2, 7, 'mot']"
      ]
     },
     "execution_count": 22,
     "metadata": {},
     "output_type": "execute_result"
    }
   ],
   "source": [
    "liste_numeros"
   ]
  },
  {
   "cell_type": "code",
   "execution_count": 23,
   "id": "81f6c318-f55b-4379-aabd-fdaeb91cd80f",
   "metadata": {},
   "outputs": [],
   "source": [
    "liste_numeros.remove(2)"
   ]
  },
  {
   "cell_type": "code",
   "execution_count": 24,
   "id": "75f2959f-9c02-4379-a651-8a404c41ee29",
   "metadata": {},
   "outputs": [
    {
     "data": {
      "text/plain": [
       "[5, 4, 3, 7, 'mot']"
      ]
     },
     "execution_count": 24,
     "metadata": {},
     "output_type": "execute_result"
    }
   ],
   "source": [
    "liste_numeros"
   ]
  },
  {
   "cell_type": "code",
   "execution_count": 25,
   "id": "78102429-d2eb-4f6e-91e9-40d4539a7e9a",
   "metadata": {},
   "outputs": [],
   "source": [
    "liste_numeros.insert(0,'hello') #Insertion à une position  "
   ]
  },
  {
   "cell_type": "code",
   "execution_count": 26,
   "id": "4147d210-6841-4457-b8aa-7d699ca27bd3",
   "metadata": {},
   "outputs": [
    {
     "data": {
      "text/plain": [
       "['hello', 5, 4, 3, 7, 'mot']"
      ]
     },
     "execution_count": 26,
     "metadata": {},
     "output_type": "execute_result"
    }
   ],
   "source": [
    "liste_numeros"
   ]
  },
  {
   "cell_type": "code",
   "execution_count": 27,
   "id": "e03d75e3-11dd-4b5b-895f-474f409a48d7",
   "metadata": {},
   "outputs": [
    {
     "data": {
      "text/plain": [
       "4"
      ]
     },
     "execution_count": 27,
     "metadata": {},
     "output_type": "execute_result"
    }
   ],
   "source": [
    "liste_numeros #Supprimer la position 2 \n",
    "liste_numeros.pop(2)"
   ]
  },
  {
   "cell_type": "code",
   "execution_count": 28,
   "id": "491ea322-a1ff-4924-9a05-5733b6be170e",
   "metadata": {},
   "outputs": [
    {
     "data": {
      "text/plain": [
       "['hello', 5, 3, 7, 'mot']"
      ]
     },
     "execution_count": 28,
     "metadata": {},
     "output_type": "execute_result"
    }
   ],
   "source": [
    "liste_numeros"
   ]
  },
  {
   "cell_type": "code",
   "execution_count": 29,
   "id": "9e8b2462-9e03-4e1d-b610-cd4933be4a6d",
   "metadata": {},
   "outputs": [
    {
     "data": {
      "text/plain": [
       "['hello', 5, 3, 7]"
      ]
     },
     "execution_count": 29,
     "metadata": {},
     "output_type": "execute_result"
    }
   ],
   "source": [
    "sous_listes = liste_numeros[0:4] #le slicing de : fin s'arrete une valeur avant ! \n",
    "sous_listes"
   ]
  },
  {
   "cell_type": "code",
   "execution_count": 30,
   "id": "1b7cb04e-f8a9-41f0-bc92-9cf3b275e691",
   "metadata": {},
   "outputs": [
    {
     "data": {
      "text/plain": [
       "4"
      ]
     },
     "execution_count": 30,
     "metadata": {},
     "output_type": "execute_result"
    }
   ],
   "source": [
    "new_list_numbers = [1,2,3,4]\n",
    "\n",
    "# taille de ma liste ? \n",
    "\n",
    "len(new_list_numbers)"
   ]
  },
  {
   "cell_type": "code",
   "execution_count": 31,
   "id": "f4d8cb34-6c56-4874-a96d-6ea223661031",
   "metadata": {},
   "outputs": [
    {
     "data": {
      "text/plain": [
       "True"
      ]
     },
     "execution_count": 31,
     "metadata": {},
     "output_type": "execute_result"
    }
   ],
   "source": [
    "# est ce que 3 est dans ma liste ? \n",
    "\n",
    "is_3 = 3\n",
    "is_3 in new_list_numbers\n",
    "3 in new_list_numbers"
   ]
  },
  {
   "cell_type": "code",
   "execution_count": 32,
   "id": "c7720e86-8f05-46b3-a0dc-920fc9d545c4",
   "metadata": {},
   "outputs": [
    {
     "data": {
      "text/plain": [
       "3"
      ]
     },
     "execution_count": 32,
     "metadata": {},
     "output_type": "execute_result"
    }
   ],
   "source": [
    "is_3"
   ]
  },
  {
   "cell_type": "markdown",
   "id": "c0bb52d5-f2e7-49f5-817b-60738a305dcf",
   "metadata": {},
   "source": [
    "### Dictionnaire"
   ]
  },
  {
   "cell_type": "code",
   "execution_count": 1,
   "id": "94e23b6b-afad-447d-8a4c-338bc324bbe6",
   "metadata": {},
   "outputs": [],
   "source": [
    "#Unordered Key:Value pairs:  {\"mykey\" : \"value\" , \"name\" : \"Frankie\"}\n"
   ]
  },
  {
   "cell_type": "code",
   "execution_count": 6,
   "id": "86d8ced6-a44b-4c6b-852d-4496bf38b587",
   "metadata": {},
   "outputs": [
    {
     "name": "stdout",
     "output_type": "stream",
     "text": [
      "{'nom': 'Dupont', 'prenom': 'Jean', 'age': 25}\n",
      "LES CLES DE MON DICT SONT :  dict_keys(['nom', 'prenom', 'age'])\n",
      "LES VALEURS DE MON DICT SONT :  dict_values(['Dupont', 'Jean', 25])\n",
      "ACCEDER AU VALEUR PAR LES CLES\n",
      "NOM Dupont\n",
      "Prenom Jean\n"
     ]
    }
   ],
   "source": [
    "#Dictionnaire simple\n",
    "\n",
    "personne = {\"nom\":\"Dupont\",\"prenom\":\"Jean\",\"age\":25}\n",
    "\n",
    "print(personne)\n",
    "\n",
    "print(\"LES CLES DE MON DICT SONT : \",personne.keys())\n",
    "print(\"LES VALEURS DE MON DICT SONT : \",personne.values())\n",
    "\n",
    "print(\"ACCEDER AU VALEUR PAR LES CLES\")\n",
    "\n",
    "print(\"NOM\", personne[\"nom\"])\n",
    "print(\"Prenom\", personne[\"prenom\"])\n"
   ]
  },
  {
   "cell_type": "markdown",
   "id": "ecf9148d-e7f4-434c-a5fb-7d15c6ecbfcd",
   "metadata": {
    "jp-MarkdownHeadingCollapsed": true
   },
   "source": [
    " Ajouter ou modifier des valeurs "
   ]
  },
  {
   "cell_type": "code",
   "execution_count": 9,
   "id": "5ad5ee6d-d518-468f-9906-da3822bd2e00",
   "metadata": {},
   "outputs": [
    {
     "name": "stdout",
     "output_type": "stream",
     "text": [
      "<class 'dict'>\n",
      "{'nom': 'Martin', 'prenom': 'Sophie', 'age': 22}\n",
      "{'nom': 'Martin', 'prenom': 'Sophie', 'age': 32}\n"
     ]
    }
   ],
   "source": [
    "etudiant = {}\n",
    "print(type(etudiant))\n",
    "\n",
    "\n",
    "#Ajouter des valeurs \n",
    "\n",
    "etudiant[\"nom\"] = \"Martin\"\n",
    "etudiant[\"prenom\"] = \"Sophie\"\n",
    "etudiant[\"age\"] = 22\n",
    "\n",
    "print(etudiant)\n",
    "\n",
    "\n",
    "etudiant[\"age\"] = 32\n",
    "print(etudiant)\n"
   ]
  },
  {
   "cell_type": "markdown",
   "id": "58cf2560-10fd-44ca-bb07-2dc62d20105e",
   "metadata": {},
   "source": [
    "### Tuples"
   ]
  },
  {
   "cell_type": "markdown",
   "id": "d132568e-c1de-4171-a06e-711fd5fcdef1",
   "metadata": {},
   "source": [
    "un tuple est une structure de données similaire à une liste, mais avec la particularité d'être immuable"
   ]
  },
  {
   "cell_type": "code",
   "execution_count": 11,
   "id": "bb1e315f-5577-46f9-9de8-4fe06b9eaf66",
   "metadata": {},
   "outputs": [
    {
     "name": "stdout",
     "output_type": "stream",
     "text": [
      "(4, 5)\n",
      "<class 'tuple'>\n"
     ]
    }
   ],
   "source": [
    "coordonnées = (4,5)\n",
    "\n",
    "print(coordonnées)\n",
    "print(type(coordonnées))"
   ]
  },
  {
   "cell_type": "markdown",
   "id": "c0775ce9-65f6-4c1f-9556-a95916eb6a30",
   "metadata": {},
   "source": [
    "Acceder aux elements d'un tuple"
   ]
  },
  {
   "cell_type": "code",
   "execution_count": 13,
   "id": "ae9e47a2-f766-484c-a4e7-2ab9b7b54b58",
   "metadata": {},
   "outputs": [
    {
     "name": "stdout",
     "output_type": "stream",
     "text": [
      "Coordonnées de X : 4\n",
      "Coordonnées de Y : 5\n"
     ]
    }
   ],
   "source": [
    "x = coordonnées[0]\n",
    "y = coordonnées[1]\n",
    "\n",
    "print(\"Coordonnées de X :\",x)\n",
    "print(\"Coordonnées de Y :\",y)"
   ]
  },
  {
   "cell_type": "markdown",
   "id": "2ad9d202-bc58-4751-9f84-65d6e2adcd9d",
   "metadata": {},
   "source": [
    "Concatenation de tuples"
   ]
  },
  {
   "cell_type": "code",
   "execution_count": 15,
   "id": "4de34223-67a8-4201-8900-4e7e3e91bdaf",
   "metadata": {},
   "outputs": [
    {
     "name": "stdout",
     "output_type": "stream",
     "text": [
      "(1, 2, 3, 4, 5, 6)\n"
     ]
    }
   ],
   "source": [
    "tuple1 = (1,2,3)\n",
    "tuple2 = (4,5,6)\n",
    "\n",
    "new_tuple = tuple1+ tuple2\n",
    "\n",
    "print(new_tuple)"
   ]
  },
  {
   "cell_type": "code",
   "execution_count": 16,
   "id": "baa52854-1315-48c2-9622-b8233b3a5c36",
   "metadata": {},
   "outputs": [
    {
     "data": {
      "text/plain": [
       "('Alice', 30, 'Femme')"
      ]
     },
     "execution_count": 16,
     "metadata": {},
     "output_type": "execute_result"
    }
   ],
   "source": [
    "informations_perso = (\"Alice\",30,\"Femme\")\n",
    "informations_perso"
   ]
  },
  {
   "cell_type": "markdown",
   "id": "bc620d9f-f436-4ef1-a7d1-e53c6fdf626d",
   "metadata": {},
   "source": [
    "### Set"
   ]
  },
  {
   "cell_type": "markdown",
   "id": "4842ccc2-6dd1-42e7-a5fd-ff66d16bb387",
   "metadata": {},
   "source": [
    "un ensemble (set) est une collection non ordonnée et non indexée d'éléments uniques"
   ]
  },
  {
   "cell_type": "code",
   "execution_count": 21,
   "id": "9eaa3156-c14b-4e87-a606-fd5b4eff9599",
   "metadata": {},
   "outputs": [
    {
     "name": "stdout",
     "output_type": "stream",
     "text": [
      "<class 'set'>\n"
     ]
    }
   ],
   "source": [
    "# Création d'un ensemble\n",
    "ensemble_a = {1, 2, 3, 4, 5,10}\n",
    "ensemble_b = {3, 4, 5, 6, 7,10}\n",
    "\n",
    "print(type(ensemble_a))"
   ]
  },
  {
   "cell_type": "markdown",
   "id": "42293fa5-7c55-4f83-829f-4d79d258c63c",
   "metadata": {},
   "source": [
    "Opérations sur les ensembles (union, intersection, différence)"
   ]
  },
  {
   "cell_type": "code",
   "execution_count": 22,
   "id": "736d846d-4a7a-413c-aced-b951c7f837b3",
   "metadata": {},
   "outputs": [
    {
     "name": "stdout",
     "output_type": "stream",
     "text": [
      "Union : {1, 2, 3, 4, 5, 6, 7, 10}\n"
     ]
    }
   ],
   "source": [
    "union_resultat = ensemble_a | ensemble_b  # ou ensemble_a.union(ensemble_b)\n",
    "print(\"Union :\", union_resultat)"
   ]
  },
  {
   "cell_type": "code",
   "execution_count": 23,
   "id": "14da0322-608d-4b44-9d07-dd7ea971aad0",
   "metadata": {},
   "outputs": [
    {
     "name": "stdout",
     "output_type": "stream",
     "text": [
      "Intersection : {10, 3, 4, 5}\n"
     ]
    }
   ],
   "source": [
    "# Intersection\n",
    "intersection_resultat =   ensemble_a.intersection(ensemble_b) #ensemble_a & ensemble_b  #\n",
    "print(\"Intersection :\", intersection_resultat)"
   ]
  },
  {
   "cell_type": "code",
   "execution_count": 25,
   "id": "241ff31c-307f-469d-8968-6efc6dbc400b",
   "metadata": {},
   "outputs": [
    {
     "name": "stdout",
     "output_type": "stream",
     "text": [
      "Différence : {1, 2}\n"
     ]
    }
   ],
   "source": [
    "# Différence\n",
    "ensemble_a = {1, 2, 3, 4, 5,10}\n",
    "ensemble_b = {3, 4, 5, 6, 7,10}\n",
    "difference_resultat = ensemble_a - ensemble_b  # ou ensemble_a.difference(ensemble_b)\n",
    "print(\"Différence :\", difference_resultat)"
   ]
  },
  {
   "cell_type": "code",
   "execution_count": 26,
   "id": "0c63b35f-f35e-4a2b-8ebc-4e99d44d300a",
   "metadata": {},
   "outputs": [
    {
     "name": "stdout",
     "output_type": "stream",
     "text": [
      "Ensemble A après ajout : {1, 2, 3, 4, 5, 6, 10}\n"
     ]
    }
   ],
   "source": [
    "# Ajout d'un élément\n",
    "ensemble_a.add(6)\n",
    "print(\"Ensemble A après ajout :\", ensemble_a)"
   ]
  },
  {
   "cell_type": "code",
   "execution_count": 27,
   "id": "9b88f79c-0d11-457a-9100-e7f394f639f3",
   "metadata": {},
   "outputs": [
    {
     "name": "stdout",
     "output_type": "stream",
     "text": [
      "Ensemble A après suppression : {1, 2, 3, 4, 5, 6}\n"
     ]
    }
   ],
   "source": [
    "# Suppression d'un élément\n",
    "ensemble_a.remove(10)\n",
    "print(\"Ensemble A après suppression :\", ensemble_a)"
   ]
  },
  {
   "cell_type": "code",
   "execution_count": 28,
   "id": "8346b689-f8f6-448d-9aff-b1045224bdef",
   "metadata": {},
   "outputs": [
    {
     "data": {
      "text/plain": [
       "True"
      ]
     },
     "execution_count": 28,
     "metadata": {},
     "output_type": "execute_result"
    }
   ],
   "source": [
    "2 in ensemble_a"
   ]
  },
  {
   "cell_type": "markdown",
   "id": "63c6e317-8e91-4737-8c3a-0d55edb09331",
   "metadata": {},
   "source": [
    "### CASTING"
   ]
  },
  {
   "cell_type": "code",
   "execution_count": 33,
   "id": "795229cc-4493-4ba0-be68-8a573af75db1",
   "metadata": {},
   "outputs": [
    {
     "name": "stdout",
     "output_type": "stream",
     "text": [
      "<class 'int'>\n",
      "15\n",
      "<class 'float'>\n",
      "15.0\n"
     ]
    }
   ],
   "source": [
    "# forcer une conversion d'un type\n",
    "a = 15\n",
    "print(type(a))\n",
    "print(a)\n",
    "#convertir mon chiffre A en str\n",
    "\n",
    "a = str(a)\n",
    "print(type(a))\n",
    "print(a)\n"
   ]
  },
  {
   "cell_type": "code",
   "execution_count": 34,
   "id": "1750b37f-36bd-4951-92aa-7cce22d5760f",
   "metadata": {},
   "outputs": [
    {
     "name": "stdout",
     "output_type": "stream",
     "text": [
      "{1, 2, 3, 4, 5}\n"
     ]
    }
   ],
   "source": [
    "liste = [1, 2, 3, 4, 5]\n",
    "ensemble_c = set(liste)\n",
    "print(ensemble_c)\n"
   ]
  },
  {
   "cell_type": "code",
   "execution_count": null,
   "id": "3ed9b014-907a-4c39-9a28-2448590d11ab",
   "metadata": {},
   "outputs": [],
   "source": [
    "ll"
   ]
  }
 ],
 "metadata": {
  "kernelspec": {
   "display_name": "Python 3 (ipykernel)",
   "language": "python",
   "name": "python3"
  },
  "language_info": {
   "codemirror_mode": {
    "name": "ipython",
    "version": 3
   },
   "file_extension": ".py",
   "mimetype": "text/x-python",
   "name": "python",
   "nbconvert_exporter": "python",
   "pygments_lexer": "ipython3",
   "version": "3.9.6"
  }
 },
 "nbformat": 4,
 "nbformat_minor": 5
}
