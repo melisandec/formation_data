{
 "cells": [
  {
   "cell_type": "code",
   "execution_count": 24,
   "id": "b8247046",
   "metadata": {},
   "outputs": [
    {
     "data": {
      "text/plain": [
       "True"
      ]
     },
     "execution_count": 24,
     "metadata": {},
     "output_type": "execute_result"
    }
   ],
   "source": [
    "%config Completer.use_jedi = False\n",
    "sentence = \"il fait beau\"\n",
    "len(sentence)\n",
    "beau in sentence"
   ]
  },
  {
   "cell_type": "code",
   "execution_count": 9,
   "id": "e659c8c1",
   "metadata": {},
   "outputs": [
    {
     "name": "stdout",
     "output_type": "stream",
     "text": [
      "beau\n"
     ]
    }
   ],
   "source": [
    "beau = sentence[8:12]\n",
    "print(beau)"
   ]
  },
  {
   "cell_type": "code",
   "execution_count": 23,
   "id": "b071163b",
   "metadata": {
    "scrolled": false
   },
   "outputs": [
    {
     "data": {
      "text/plain": [
       "'nohtyp'"
      ]
     },
     "execution_count": 23,
     "metadata": {},
     "output_type": "execute_result"
    }
   ],
   "source": [
    "mot = \"python\"[::-1]\n",
    "mot"
   ]
  },
  {
   "cell_type": "code",
   "execution_count": 30,
   "id": "634b2878",
   "metadata": {},
   "outputs": [
    {
     "data": {
      "text/plain": [
       "'Contacter moi au '"
      ]
     },
     "execution_count": 30,
     "metadata": {},
     "output_type": "execute_result"
    }
   ],
   "source": [
    "Chaîne = \"Contacter moi au 0676125423\"\n",
    "no_digits = []\n",
    "# Iterate through the string, adding non-numbers to the no_digits list\n",
    "for i in Chaîne :\n",
    "    if not i.isdigit():\n",
    "        no_digits.append(i)\n",
    "\n",
    "# Now join all elements of the list with '', \n",
    "# which puts all of the characters together.\n",
    "result = ''.join(no_digits)\n",
    "result"
   ]
  },
  {
   "cell_type": "code",
   "execution_count": 51,
   "id": "ddb6e3e7",
   "metadata": {},
   "outputs": [
    {
     "data": {
      "text/plain": [
       "21"
      ]
     },
     "execution_count": 51,
     "metadata": {},
     "output_type": "execute_result"
    }
   ],
   "source": [
    "list_numbers = [1,2,3,4,5]\n",
    "list_numbers\n",
    "#Ajouter le chiffre 6\n",
    "list_numbers.append(6)\n",
    "list_numbers\n",
    "#Afficher uniquement 3,4,5\n",
    "newlist = list_numbers[2:5]\n",
    "newlist\n",
    "#Connaitre la somme d'une liste d'éléments\n",
    "sum(list_numbers)"
   ]
  },
  {
   "cell_type": "code",
   "execution_count": 60,
   "id": "49c02338",
   "metadata": {},
   "outputs": [
    {
     "name": "stdout",
     "output_type": "stream",
     "text": [
      "{1, 2, 3, 4, 5, 6, 7}\n",
      "<class 'list'>\n"
     ]
    }
   ],
   "source": [
    "list1 = [1,2,3,4,5]\n",
    "list2 = [4,5,6,7,1]\n",
    "#Casting: conversion d'une liste en set\n",
    "set1 = set(list1)\n",
    "set2 = set(list2)\n",
    "#New list avec les éléments en communs\n",
    "newlist = set1 | set2\n",
    "print(newlist)\n",
    "finallist = list(newlist)\n",
    "print(type(finallist))"
   ]
  },
  {
   "cell_type": "code",
   "execution_count": null,
   "id": "f63c6278",
   "metadata": {},
   "outputs": [],
   "source": []
  },
  {
   "cell_type": "code",
   "execution_count": null,
   "id": "306a9c56",
   "metadata": {},
   "outputs": [],
   "source": []
  }
 ],
 "metadata": {
  "kernelspec": {
   "display_name": "Python 3 (ipykernel)",
   "language": "python",
   "name": "python3"
  },
  "language_info": {
   "codemirror_mode": {
    "name": "ipython",
    "version": 3
   },
   "file_extension": ".py",
   "mimetype": "text/x-python",
   "name": "python",
   "nbconvert_exporter": "python",
   "pygments_lexer": "ipython3",
   "version": "3.11.5"
  }
 },
 "nbformat": 4,
 "nbformat_minor": 5
}
